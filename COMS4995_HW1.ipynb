{
  "nbformat": 4,
  "nbformat_minor": 0,
  "metadata": {
    "colab": {
      "name": "COMS4995 HW1.ipynb",
      "version": "0.3.2",
      "provenance": [],
      "collapsed_sections": [
        "c2S_wf_djoMA"
      ],
      "include_colab_link": true
    },
    "kernelspec": {
      "name": "python3",
      "display_name": "Python 3"
    }
  },
  "cells": [
    {
      "cell_type": "markdown",
      "metadata": {
        "id": "view-in-github",
        "colab_type": "text"
      },
      "source": [
        "[View in Colaboratory](https://colab.research.google.com/github/zhichengMLE/deep_learning/blob/master/COMS4995_HW1.ipynb)"
      ]
    },
    {
      "metadata": {
        "id": "17vt1UKtbiHg",
        "colab_type": "code",
        "colab": {}
      },
      "cell_type": "code",
      "source": [
        "# http://pytorch.org/\n",
        "from os import path\n",
        "from wheel.pep425tags import get_abbr_impl, get_impl_ver, get_abi_tag\n",
        "platform = '{}{}-{}'.format(get_abbr_impl(), get_impl_ver(), get_abi_tag())\n",
        "\n",
        "accelerator = 'cu80' if path.exists('/opt/bin/nvidia-smi') else 'cpu'\n",
        "\n",
        "!pip install -q http://download.pytorch.org/whl/{accelerator}/torch-0.3.0.post4-{platform}-linux_x86_64.whl torchvision\n",
        "import torch"
      ],
      "execution_count": 0,
      "outputs": []
    },
    {
      "metadata": {
        "id": "f7KQxHltGIOE",
        "colab_type": "code",
        "colab": {
          "base_uri": "https://localhost:8080/",
          "height": 34
        },
        "outputId": "b685534f-f22c-4e1a-9506-6bbd542175a9"
      },
      "cell_type": "code",
      "source": [
        "import torch\n",
        "import numpy as np\n",
        "import math\n",
        "import matplotlib.pyplot as plt\n",
        "import torch.nn as nn\n",
        "import torch.nn.functional as F\n",
        "import torch, torchvision\n",
        "import torch.optim as optim\n",
        "from numpy import float32\n",
        "import random\n",
        "\n",
        "torch.__version__"
      ],
      "execution_count": 28,
      "outputs": [
        {
          "output_type": "execute_result",
          "data": {
            "text/plain": [
              "'0.3.0.post4'"
            ]
          },
          "metadata": {
            "tags": []
          },
          "execution_count": 28
        }
      ]
    },
    {
      "metadata": {
        "id": "iwbCLyPe87OH",
        "colab_type": "code",
        "colab": {
          "base_uri": "https://localhost:8080/",
          "height": 51
        },
        "outputId": "c62d580d-b579-40c2-84fb-b268e04ffdb4"
      },
      "cell_type": "code",
      "source": [
        "\n",
        "transform = torchvision.transforms.Compose([torchvision.transforms.ToTensor(), torchvision.transforms.Normalize((0.5, 0.5, 0.5), (0.5, 0.5, 0.5))])\n",
        "trainset = torchvision.datasets.CIFAR10(root='./data', train=True, download=True, transform=transform)\n",
        "testset = torchvision.datasets.CIFAR10(root='./data', train=False, download=True, transform=transform)\n",
        "\n",
        "trainloader = torch.utils.data.DataLoader(trainset, batch_size=100, shuffle=True, num_workers=2)\n",
        "testloader = torch.utils.data.DataLoader(testset, batch_size=100, shuffle=False, num_workers=2)\n",
        "\n",
        "classes = ('plane', 'car', 'bird', 'cat', 'deer', 'dog', 'frog', 'horse', 'ship', 'truck')"
      ],
      "execution_count": 29,
      "outputs": [
        {
          "output_type": "stream",
          "text": [
            "Files already downloaded and verified\n",
            "Files already downloaded and verified\n"
          ],
          "name": "stdout"
        }
      ]
    },
    {
      "metadata": {
        "id": "FvhqX2vDkFpC",
        "colab_type": "text"
      },
      "cell_type": "markdown",
      "source": [
        "# Part 1"
      ]
    },
    {
      "metadata": {
        "id": "e0Rm0BNcXCW6",
        "colab_type": "code",
        "colab": {}
      },
      "cell_type": "code",
      "source": [
        "dataset_size = len(trainset)\n",
        "train_ratio = 0.9\n",
        "image_flatten_size = trainset[0][0].numpy().size\n",
        "train_size = int(train_ratio * dataset_size)\n",
        "valid_size = dataset_size - train_size\n",
        "test_size = len(testset)\n",
        "\n",
        "\n",
        "X_train = np.zeros((image_flatten_size, train_size), dtype=float32)\n",
        "X_val = np.zeros((image_flatten_size, valid_size), dtype=float32)\n",
        "X_test = np.zeros((image_flatten_size, test_size), dtype=float32)\n",
        "y_train  = np.zeros((train_size), dtype=int)\n",
        "y_val  = np.zeros((valid_size), dtype=int)\n",
        "y_test  = np.zeros((test_size), dtype=int)\n",
        "\n",
        "for i in range(train_size):\n",
        "    X_train[:,i] = trainset[i][0].numpy().flatten()\n",
        "    y_train[i] = trainset[i][1] \n",
        "for i in range(valid_size):\n",
        "    X_val[:,i] = trainset[i+train_size][0].numpy().flatten()\n",
        "    y_val[i] = trainset[i+train_size][1] \n",
        "for i in range(test_size):\n",
        "    X_test[:,i] = testset[i][0].numpy().flatten()\n",
        "    y_test[i] = trainset[i][1] \n"
      ],
      "execution_count": 0,
      "outputs": []
    },
    {
      "metadata": {
        "id": "nCrEQWvwGi65",
        "colab_type": "code",
        "colab": {}
      },
      "cell_type": "code",
      "source": [
        "class NeuralNetwork(object):\n",
        "    def __init__(self, layer_dimensions):\n",
        "        np.random.seed(100)\n",
        "        self.nb_layers = len(layer_dimensions)\n",
        "        \n",
        "        self.parameters = {}\n",
        "        self.parameters['W'] = {}\n",
        "        self.parameters['b'] = {}\n",
        "        self.parameters['Z'] = {}\n",
        "        self.parameters['A'] = {}\n",
        "        self.parameters['m'] = {}\n",
        "        self.parameters['mb'] = {}\n",
        "        self.parameters['s'] = {}\n",
        "        self.parameters['sb'] = {}\n",
        "        for i in range(self.nb_layers):\n",
        "            self.parameters['W'][i] = np.random.randn(layer_dimensions[i], layer_dimensions[i - 1]) / np.sqrt(layer_dimensions[i - 1])\n",
        "            self.parameters['b'][i] = np.zeros([layer_dimensions[i], 1])\n",
        "            self.parameters['m'][i] = None\n",
        "            self.parameters['mb'][i] = None\n",
        "            self.parameters['s'][i] = None\n",
        "            self.parameters['sb'][i] = None\n",
        "\n",
        "    def affineForward(self, A, W, b):\n",
        "        Z = np.dot(W, A) + b\n",
        "        \n",
        "        return Z\n",
        "        \n",
        "    def activationForward(self, A, activation=\"relu\"):\n",
        "        if activation == \"relu\":\n",
        "            return self.relu(A)\n",
        "        elif activation == \"softmax\":\n",
        "            return self.softmax(A)\n",
        "        else:\n",
        "            raise NotImplemented\n",
        "            \n",
        "    def forwardPropagation(self, X):\n",
        "        self.parameters[\"A\"][0] = X\n",
        "        \n",
        "        for i in range(1, self.nb_layers-1):\n",
        "            Z = self.affineForward(self.parameters[\"A\"][i-1], self.parameters[\"W\"][i], self.parameters[\"b\"][i])\n",
        "            A = self.activationForward(Z)\n",
        "            self.parameters[\"Z\"][i] = Z\n",
        "            self.parameters[\"A\"][i] = A\n",
        "        \n",
        "        # Softmax for last layer.\n",
        "        Z = self.affineForward(self.parameters[\"A\"][self.nb_layers-2], self.parameters[\"W\"][self.nb_layers-1], self.parameters[\"b\"][self.nb_layers-1])\n",
        "        AL = self.activationForward(Z, \"softmax\")\n",
        "        self.parameters[\"Z\"][self.nb_layers-1] = Z\n",
        "        self.parameters[\"A\"][self.nb_layers-1] = AL\n",
        "            \n",
        "        return AL\n",
        "    \n",
        "    def costFunction(self, AL, y):\n",
        "        cost = -np.sum(np.log(AL[y,range(y.shape[0])])) / y.shape[0]\n",
        "        AL[y, range(y.shape[0])] -= 1\n",
        "        dAL = AL / y.shape[0]\n",
        "        return cost, dAL\n",
        "\n",
        "    def affineBackward(self, dA_prev, cache, idx_layer=0):\n",
        "        W, Z, A = cache\n",
        "        mW, mb, s, sb = self.parameters['m'][idx_layer],self.parameters['mb'][idx_layer],self.parameters['s'][idx_layer],self.parameters['sb'][idx_layer]\n",
        "\n",
        "        dA = self.activationBackward(np.dot(W.T, dA_prev), Z)\n",
        "        dW = np.dot(dA_prev, A.T)\n",
        "        db = np.expand_dims(np.sum(dA_prev, axis=1), axis=1)            \n",
        "        \n",
        "        return dA, dW, db\n",
        "\n",
        "    def activationBackward(self, dA, cache):\n",
        "        return dA * self.relu_derivative(cache)\n",
        "    \n",
        "    def backPropagation(self, dAL, Y, cache):\n",
        "        dA_prev, dW, db = self.affineBackward(dAL, (self.parameters['W'][self.nb_layers-1], self.parameters['Z'][self.nb_layers-2], self.parameters['A'][self.nb_layers-2]), self.nb_layers-1)\n",
        "        gradients = {}\n",
        "        gradients[self.nb_layers-1] = {}\n",
        "        gradients[self.nb_layers-1]['dW'] = dW\n",
        "        gradients[self.nb_layers-1]['db'] = db\n",
        "        \n",
        "        for i in range(self.nb_layers-3, -1, -1):\n",
        "            dA_prev,dW,db = self.affineBackward(dA_prev, (self.parameters['W'][i+1], self.parameters['Z'][i], self.parameters['A'][i]), i+1)\n",
        "            gradients[i+1] = {}\n",
        "            gradients[i+1]['dW'] = dW\n",
        "            gradients[i+1]['db'] = db\n",
        "            \n",
        "        return gradients\n",
        "\n",
        "    def updateParameters(self, gradients, alpha):\n",
        "        for i in range(1, self.nb_layers):\n",
        "            self.parameters['W'][i] = self.parameters['W'][i] - alpha * gradients[i]['dW']\n",
        "            self.parameters['b'][i] = self.parameters['b'][i] - alpha * gradients[i]['db']\n",
        "\n",
        "    def train(self, X_train, X_val, y_train, y_val, iters, alpha, batch_size):\n",
        "        print_batch_freq = 90\n",
        "        print_epoch_freq = 200\n",
        "        random_range = np.random.permutation(X_train.shape[1])\n",
        "        X_train = X_train[:,random_range[0:X_train.shape[1]]]\n",
        "        y_train = y_train[random_range[0:X_train.shape[1]]]\n",
        "        \n",
        "        for i in range(0, iters):\n",
        "            # shuffle all trainning data.\n",
        "            index = np.random.randint(0, X.shape[1], size=X.shape[1])\n",
        "            X_train = X_train[: index]\n",
        "            y_train = y_train[index]\n",
        "\n",
        "            for j in range(math.ceil(X_train.shape[1] // batch_size)):\n",
        "                # minibatch\n",
        "                X_batch, y_batch = self.get_batch(X_train, y_train, j*batch_size, batch_size)\n",
        "                # forward propogation\n",
        "                AL = self.forwardPropagation(X_batch)\n",
        "                # compute loss function\n",
        "                cost, dAL = self.costFunction(AL, y_batch)\n",
        "                # compute gradients of parameters\n",
        "                self.parameters['Z'][0] = X_batch\n",
        "                gradients = self.backPropagation(dAL, y_batch, None)\n",
        "                # update parameters\n",
        "                self.updateParameters(gradients, alpha)\n",
        "                \n",
        "                if(i % print_epoch_freq == 0 and j % print_batch_freq == 0):\n",
        "                    acc = np.sum(self.predict(X_batch) == y_batch) / y_batch.shape[0]\n",
        "                    validation_acc = np.sum(self.predict(X_val) == y_val) / y_val.shape[0]\n",
        "                    print(\"Iteration: %.5d/%.5d - Cost: %.8f - Accuracy: %.8f - val_acc: %.8f\"%(i, iters, cost, acc, validation_acc))\n",
        "\n",
        "    def predict(self, X_new):\n",
        "        A_prev = X_new\n",
        "        for i in range(1, self.nb_layers):\n",
        "            A = A_prev\n",
        "            Z = self.affineForward(A, self.parameters[\"W\"][i], self.parameters[\"b\"][i])\n",
        "            A_prev = self.activationForward(Z)\n",
        "        y_pred = np.argmax(A_prev, axis=0)\n",
        "\n",
        "        return y_pred\n",
        "\n",
        "    def get_batch(self, X, y, idx, batch_size):\n",
        "        return X[:, idx:idx+batch_size], y[idx:idx+batch_size]\n",
        "  \n",
        "    def relu(self, X):\n",
        "        return np.maximum(0, X)\n",
        "    \n",
        "    def softmax(self, X):\n",
        "        return np.exp(X) / np.sum(np.exp(X), axis = 0)  \n",
        "\n",
        "    def relu_derivative(self, A):\n",
        "        return np.where(A > 0, 1, 0)\n"
      ],
      "execution_count": 0,
      "outputs": []
    },
    {
      "metadata": {
        "id": "eQC9xpyxKIUE",
        "colab_type": "code",
        "colab": {
          "base_uri": "https://localhost:8080/",
          "height": 2567
        },
        "outputId": "809298ca-9b9c-4b8f-bee8-95a946383964"
      },
      "cell_type": "code",
      "source": [
        "layer_dimensions = [X_train.shape[0], 512, 256, 128, 64, 32, 10]\n",
        "NN = NeuralNetwork(layer_dimensions)\n",
        "NN.train(X_train, X_val, y_train, y_val, iters=10000, alpha=0.05, batch_size=250)"
      ],
      "execution_count": 6,
      "outputs": [
        {
          "output_type": "stream",
          "text": [
            "Iteration: 00000/15000 - Cost: 2.31850111 - Accuracy: 0.09500000 - val_acc: 0.11180000\n",
            "Iteration: 00100/15000 - Cost: 1.84044727 - Accuracy: 0.39000000 - val_acc: 0.30140000\n",
            "Iteration: 00200/15000 - Cost: 1.63068190 - Accuracy: 0.47000000 - val_acc: 0.36320000\n",
            "Iteration: 00300/15000 - Cost: 1.60515687 - Accuracy: 0.45500000 - val_acc: 0.38760000\n",
            "Iteration: 00400/15000 - Cost: 1.59759684 - Accuracy: 0.51500000 - val_acc: 0.42720000\n",
            "Iteration: 00500/15000 - Cost: 1.58552405 - Accuracy: 0.50500000 - val_acc: 0.44920000\n",
            "Iteration: 00600/15000 - Cost: 1.41390090 - Accuracy: 0.57000000 - val_acc: 0.46820000\n",
            "Iteration: 00700/15000 - Cost: 1.50600117 - Accuracy: 0.53500000 - val_acc: 0.46360000\n",
            "Iteration: 00800/15000 - Cost: 1.48894765 - Accuracy: 0.54000000 - val_acc: 0.47500000\n",
            "Iteration: 00900/15000 - Cost: 1.42602809 - Accuracy: 0.63500000 - val_acc: 0.49680000\n",
            "Iteration: 01000/15000 - Cost: 1.45479243 - Accuracy: 0.60500000 - val_acc: 0.48680000\n",
            "Iteration: 01100/15000 - Cost: 1.31356153 - Accuracy: 0.64000000 - val_acc: 0.48180000\n",
            "Iteration: 01200/15000 - Cost: 1.38537086 - Accuracy: 0.63000000 - val_acc: 0.48000000\n",
            "Iteration: 01300/15000 - Cost: 1.38593632 - Accuracy: 0.71500000 - val_acc: 0.50700000\n",
            "Iteration: 01400/15000 - Cost: 1.20449844 - Accuracy: 0.65500000 - val_acc: 0.51580000\n",
            "Iteration: 01500/15000 - Cost: 1.16259598 - Accuracy: 0.73000000 - val_acc: 0.50140000\n",
            "Iteration: 01600/15000 - Cost: 1.27143789 - Accuracy: 0.69000000 - val_acc: 0.51920000\n",
            "Iteration: 01700/15000 - Cost: 1.12259267 - Accuracy: 0.73000000 - val_acc: 0.50180000\n",
            "Iteration: 01800/15000 - Cost: 1.07892349 - Accuracy: 0.74500000 - val_acc: 0.51120000\n",
            "Iteration: 01900/15000 - Cost: 1.04426031 - Accuracy: 0.75500000 - val_acc: 0.50040000\n",
            "Iteration: 02000/15000 - Cost: 1.08045327 - Accuracy: 0.74500000 - val_acc: 0.50440000\n",
            "Iteration: 02100/15000 - Cost: 1.09451171 - Accuracy: 0.81500000 - val_acc: 0.50580000\n",
            "Iteration: 02200/15000 - Cost: 0.93306762 - Accuracy: 0.82000000 - val_acc: 0.51360000\n",
            "Iteration: 02300/15000 - Cost: 0.88216272 - Accuracy: 0.82000000 - val_acc: 0.51840000\n",
            "Iteration: 02400/15000 - Cost: 0.81325018 - Accuracy: 0.88500000 - val_acc: 0.51940000\n",
            "Iteration: 02500/15000 - Cost: 1.17406108 - Accuracy: 0.78500000 - val_acc: 0.51740000\n",
            "Iteration: 02600/15000 - Cost: 0.89435207 - Accuracy: 0.79000000 - val_acc: 0.50820000\n",
            "Iteration: 02700/15000 - Cost: 0.83861056 - Accuracy: 0.79500000 - val_acc: 0.51060000\n",
            "Iteration: 02800/15000 - Cost: 0.84851233 - Accuracy: 0.80000000 - val_acc: 0.50960000\n",
            "Iteration: 02900/15000 - Cost: 0.96764108 - Accuracy: 0.85000000 - val_acc: 0.51280000\n",
            "Iteration: 03000/15000 - Cost: 0.98172750 - Accuracy: 0.82000000 - val_acc: 0.51700000\n",
            "Iteration: 03100/15000 - Cost: 0.76515756 - Accuracy: 0.90500000 - val_acc: 0.53760000\n",
            "Iteration: 03200/15000 - Cost: 0.76978608 - Accuracy: 0.88500000 - val_acc: 0.51080000\n",
            "Iteration: 03300/15000 - Cost: 0.81356569 - Accuracy: 0.91000000 - val_acc: 0.52540000\n",
            "Iteration: 03400/15000 - Cost: 0.60615854 - Accuracy: 0.92000000 - val_acc: 0.53280000\n",
            "Iteration: 03500/15000 - Cost: 0.76815281 - Accuracy: 0.82500000 - val_acc: 0.50360000\n",
            "Iteration: 03600/15000 - Cost: 0.83476808 - Accuracy: 0.83000000 - val_acc: 0.50640000\n",
            "Iteration: 03700/15000 - Cost: 0.53400851 - Accuracy: 0.93000000 - val_acc: 0.53880000\n",
            "Iteration: 03800/15000 - Cost: 0.53057159 - Accuracy: 0.95000000 - val_acc: 0.53740000\n",
            "Iteration: 03900/15000 - Cost: 0.67756545 - Accuracy: 0.85500000 - val_acc: 0.49760000\n",
            "Iteration: 04000/15000 - Cost: 0.61047162 - Accuracy: 0.92000000 - val_acc: 0.53220000\n",
            "Iteration: 04100/15000 - Cost: 0.58779797 - Accuracy: 0.91000000 - val_acc: 0.51500000\n",
            "Iteration: 04200/15000 - Cost: 0.56849170 - Accuracy: 0.86500000 - val_acc: 0.50200000\n",
            "Iteration: 04300/15000 - Cost: 0.43858982 - Accuracy: 0.95500000 - val_acc: 0.51720000\n",
            "Iteration: 04400/15000 - Cost: 0.57681517 - Accuracy: 0.94000000 - val_acc: 0.52540000\n",
            "Iteration: 04500/15000 - Cost: 0.51936554 - Accuracy: 0.96000000 - val_acc: 0.53620000\n",
            "Iteration: 04600/15000 - Cost: 0.54092952 - Accuracy: 0.93000000 - val_acc: 0.52960000\n",
            "Iteration: 04700/15000 - Cost: 0.44101826 - Accuracy: 0.96500000 - val_acc: 0.52600000\n",
            "Iteration: 04800/15000 - Cost: 0.52940931 - Accuracy: 0.94000000 - val_acc: 0.52000000\n",
            "Iteration: 04900/15000 - Cost: 0.53366077 - Accuracy: 0.90500000 - val_acc: 0.52280000\n",
            "Iteration: 05000/15000 - Cost: 0.42885522 - Accuracy: 0.96500000 - val_acc: 0.52380000\n",
            "Iteration: 05100/15000 - Cost: 0.55084820 - Accuracy: 0.94000000 - val_acc: 0.51640000\n",
            "Iteration: 05200/15000 - Cost: 0.39193516 - Accuracy: 0.96000000 - val_acc: 0.52240000\n",
            "Iteration: 05300/15000 - Cost: 0.50764008 - Accuracy: 0.88000000 - val_acc: 0.48840000\n",
            "Iteration: 05400/15000 - Cost: 0.52671202 - Accuracy: 0.95500000 - val_acc: 0.51980000\n",
            "Iteration: 05500/15000 - Cost: 0.40540740 - Accuracy: 0.91000000 - val_acc: 0.52160000\n",
            "Iteration: 05600/15000 - Cost: 0.31798201 - Accuracy: 0.96500000 - val_acc: 0.52080000\n",
            "Iteration: 05700/15000 - Cost: 0.34366147 - Accuracy: 0.97500000 - val_acc: 0.52860000\n",
            "Iteration: 05800/15000 - Cost: 0.41835210 - Accuracy: 0.96000000 - val_acc: 0.52740000\n",
            "Iteration: 05900/15000 - Cost: 0.49202955 - Accuracy: 0.99500000 - val_acc: 0.52800000\n",
            "Iteration: 06000/15000 - Cost: 0.25330265 - Accuracy: 0.98000000 - val_acc: 0.52960000\n",
            "Iteration: 06100/15000 - Cost: 0.25040309 - Accuracy: 0.99500000 - val_acc: 0.53140000\n",
            "Iteration: 06200/15000 - Cost: 0.24978227 - Accuracy: 0.97500000 - val_acc: 0.52100000\n",
            "Iteration: 06300/15000 - Cost: 0.29031303 - Accuracy: 0.96500000 - val_acc: 0.51240000\n",
            "Iteration: 06400/15000 - Cost: 0.22666020 - Accuracy: 0.98000000 - val_acc: 0.52920000\n",
            "Iteration: 06500/15000 - Cost: 0.46570745 - Accuracy: 0.89000000 - val_acc: 0.50860000\n",
            "Iteration: 06600/15000 - Cost: 0.23807368 - Accuracy: 0.98000000 - val_acc: 0.51620000\n",
            "Iteration: 06700/15000 - Cost: 0.19030516 - Accuracy: 1.00000000 - val_acc: 0.52940000\n",
            "Iteration: 06800/15000 - Cost: 0.34082374 - Accuracy: 0.98000000 - val_acc: 0.51220000\n",
            "Iteration: 06900/15000 - Cost: 0.20503663 - Accuracy: 1.00000000 - val_acc: 0.52560000\n",
            "Iteration: 07000/15000 - Cost: 0.25995469 - Accuracy: 0.95500000 - val_acc: 0.50860000\n",
            "Iteration: 07100/15000 - Cost: 0.36565286 - Accuracy: 0.86500000 - val_acc: 0.49140000\n",
            "Iteration: 07200/15000 - Cost: 0.17964507 - Accuracy: 0.97500000 - val_acc: 0.52600000\n",
            "Iteration: 07300/15000 - Cost: 0.30580915 - Accuracy: 1.00000000 - val_acc: 0.52100000\n",
            "Iteration: 07400/15000 - Cost: 0.19266164 - Accuracy: 1.00000000 - val_acc: 0.53380000\n",
            "Iteration: 07500/15000 - Cost: 0.22539252 - Accuracy: 0.99000000 - val_acc: 0.53340000\n",
            "Iteration: 07600/15000 - Cost: 0.08174580 - Accuracy: 1.00000000 - val_acc: 0.53020000\n",
            "Iteration: 07700/15000 - Cost: 0.30356628 - Accuracy: 0.91500000 - val_acc: 0.51160000\n",
            "Iteration: 07800/15000 - Cost: 0.27878305 - Accuracy: 0.97500000 - val_acc: 0.51960000\n",
            "Iteration: 07900/15000 - Cost: 0.14147615 - Accuracy: 0.99000000 - val_acc: 0.52940000\n",
            "Iteration: 08000/15000 - Cost: 0.16983533 - Accuracy: 0.98500000 - val_acc: 0.52920000\n",
            "Iteration: 08100/15000 - Cost: 0.19300022 - Accuracy: 0.98000000 - val_acc: 0.52140000\n",
            "Iteration: 08200/15000 - Cost: 0.13933521 - Accuracy: 1.00000000 - val_acc: 0.52320000\n",
            "Iteration: 08300/15000 - Cost: 0.16578855 - Accuracy: 1.00000000 - val_acc: 0.51160000\n",
            "Iteration: 08400/15000 - Cost: 0.18428256 - Accuracy: 0.99500000 - val_acc: 0.52640000\n",
            "Iteration: 08500/15000 - Cost: 0.15745749 - Accuracy: 0.99500000 - val_acc: 0.52660000\n",
            "Iteration: 08600/15000 - Cost: 0.17152491 - Accuracy: 0.98500000 - val_acc: 0.52640000\n",
            "Iteration: 08700/15000 - Cost: 0.33458323 - Accuracy: 0.97000000 - val_acc: 0.51760000\n",
            "Iteration: 08800/15000 - Cost: 0.14022392 - Accuracy: 0.99000000 - val_acc: 0.51840000\n",
            "Iteration: 08900/15000 - Cost: 0.14067083 - Accuracy: 1.00000000 - val_acc: 0.52840000\n",
            "Iteration: 09000/15000 - Cost: 0.12924798 - Accuracy: 1.00000000 - val_acc: 0.51880000\n",
            "Iteration: 09100/15000 - Cost: 0.11574449 - Accuracy: 1.00000000 - val_acc: 0.53040000\n",
            "Iteration: 09200/15000 - Cost: 0.15703072 - Accuracy: 0.99000000 - val_acc: 0.52580000\n",
            "Iteration: 09300/15000 - Cost: 0.07145499 - Accuracy: 1.00000000 - val_acc: 0.53300000\n",
            "Iteration: 09400/15000 - Cost: 0.10902917 - Accuracy: 0.98500000 - val_acc: 0.52600000\n",
            "Iteration: 09500/15000 - Cost: 0.11107519 - Accuracy: 0.99500000 - val_acc: 0.53060000\n",
            "Iteration: 09600/15000 - Cost: 0.31062222 - Accuracy: 0.89500000 - val_acc: 0.50920000\n",
            "Iteration: 09700/15000 - Cost: 0.10521649 - Accuracy: 0.99500000 - val_acc: 0.52180000\n",
            "Iteration: 09800/15000 - Cost: 0.11286776 - Accuracy: 1.00000000 - val_acc: 0.52500000\n",
            "Iteration: 09900/15000 - Cost: 0.10409094 - Accuracy: 1.00000000 - val_acc: 0.52180000\n",
            "Iteration: 10000/15000 - Cost: 0.06160854 - Accuracy: 1.00000000 - val_acc: 0.52180000\n",
            "Iteration: 10100/15000 - Cost: 0.10081565 - Accuracy: 0.99500000 - val_acc: 0.51920000\n",
            "Iteration: 10200/15000 - Cost: 0.11715854 - Accuracy: 1.00000000 - val_acc: 0.52100000\n",
            "Iteration: 10300/15000 - Cost: 0.10729899 - Accuracy: 1.00000000 - val_acc: 0.53500000\n",
            "Iteration: 10400/15000 - Cost: 0.08598301 - Accuracy: 1.00000000 - val_acc: 0.52440000\n",
            "Iteration: 10500/15000 - Cost: 0.08684621 - Accuracy: 1.00000000 - val_acc: 0.51460000\n",
            "Iteration: 10600/15000 - Cost: 0.10118247 - Accuracy: 0.97000000 - val_acc: 0.51140000\n",
            "Iteration: 10700/15000 - Cost: 0.07046576 - Accuracy: 0.99500000 - val_acc: 0.52400000\n",
            "Iteration: 10800/15000 - Cost: 0.04998693 - Accuracy: 1.00000000 - val_acc: 0.53080000\n",
            "Iteration: 10900/15000 - Cost: 0.09019047 - Accuracy: 1.00000000 - val_acc: 0.51660000\n",
            "Iteration: 11000/15000 - Cost: 0.05497604 - Accuracy: 1.00000000 - val_acc: 0.53100000\n",
            "Iteration: 11100/15000 - Cost: 0.03288557 - Accuracy: 1.00000000 - val_acc: 0.53340000\n",
            "Iteration: 11200/15000 - Cost: 0.03615062 - Accuracy: 1.00000000 - val_acc: 0.52500000\n",
            "Iteration: 11300/15000 - Cost: 0.08802385 - Accuracy: 0.99500000 - val_acc: 0.52460000\n",
            "Iteration: 11400/15000 - Cost: 0.04486265 - Accuracy: 1.00000000 - val_acc: 0.53460000\n",
            "Iteration: 11500/15000 - Cost: 0.09191350 - Accuracy: 1.00000000 - val_acc: 0.52600000\n",
            "Iteration: 11600/15000 - Cost: 0.06719941 - Accuracy: 1.00000000 - val_acc: 0.52480000\n",
            "Iteration: 11700/15000 - Cost: 0.02911503 - Accuracy: 1.00000000 - val_acc: 0.52060000\n",
            "Iteration: 11800/15000 - Cost: 0.03145941 - Accuracy: 1.00000000 - val_acc: 0.53320000\n",
            "Iteration: 11900/15000 - Cost: 0.04697360 - Accuracy: 1.00000000 - val_acc: 0.52360000\n",
            "Iteration: 12000/15000 - Cost: 0.16139668 - Accuracy: 0.98000000 - val_acc: 0.51180000\n",
            "Iteration: 12100/15000 - Cost: 0.02420525 - Accuracy: 1.00000000 - val_acc: 0.53500000\n",
            "Iteration: 12200/15000 - Cost: 0.04771264 - Accuracy: 1.00000000 - val_acc: 0.52840000\n",
            "Iteration: 12300/15000 - Cost: 0.02558915 - Accuracy: 1.00000000 - val_acc: 0.52260000\n",
            "Iteration: 12400/15000 - Cost: 0.01375881 - Accuracy: 1.00000000 - val_acc: 0.52920000\n",
            "Iteration: 12500/15000 - Cost: 0.01127220 - Accuracy: 1.00000000 - val_acc: 0.53580000\n",
            "Iteration: 12600/15000 - Cost: 0.01109879 - Accuracy: 1.00000000 - val_acc: 0.53040000\n",
            "Iteration: 12700/15000 - Cost: 0.06042301 - Accuracy: 0.99500000 - val_acc: 0.52420000\n",
            "Iteration: 12800/15000 - Cost: 0.03288823 - Accuracy: 1.00000000 - val_acc: 0.53760000\n",
            "Iteration: 12900/15000 - Cost: 0.43138602 - Accuracy: 0.98500000 - val_acc: 0.49920000\n",
            "Iteration: 13000/15000 - Cost: 0.05409738 - Accuracy: 1.00000000 - val_acc: 0.52860000\n",
            "Iteration: 13100/15000 - Cost: 0.02535508 - Accuracy: 0.99500000 - val_acc: 0.52640000\n",
            "Iteration: 13200/15000 - Cost: 0.04603573 - Accuracy: 1.00000000 - val_acc: 0.52860000\n",
            "Iteration: 13300/15000 - Cost: 0.02903147 - Accuracy: 1.00000000 - val_acc: 0.53300000\n",
            "Iteration: 13400/15000 - Cost: 0.02179047 - Accuracy: 1.00000000 - val_acc: 0.52500000\n",
            "Iteration: 13500/15000 - Cost: 0.02728900 - Accuracy: 1.00000000 - val_acc: 0.53420000\n",
            "Iteration: 13600/15000 - Cost: 0.07227224 - Accuracy: 1.00000000 - val_acc: 0.53380000\n",
            "Iteration: 13700/15000 - Cost: 0.51378616 - Accuracy: 0.90500000 - val_acc: 0.47840000\n",
            "Iteration: 13800/15000 - Cost: 0.04376863 - Accuracy: 1.00000000 - val_acc: 0.53440000\n",
            "Iteration: 13900/15000 - Cost: 0.02406833 - Accuracy: 1.00000000 - val_acc: 0.53380000\n",
            "Iteration: 14000/15000 - Cost: 0.01776186 - Accuracy: 1.00000000 - val_acc: 0.53540000\n",
            "Iteration: 14100/15000 - Cost: 0.02438334 - Accuracy: 1.00000000 - val_acc: 0.53640000\n",
            "Iteration: 14200/15000 - Cost: 0.02258806 - Accuracy: 1.00000000 - val_acc: 0.53460000\n",
            "Iteration: 14300/15000 - Cost: 0.00516997 - Accuracy: 1.00000000 - val_acc: 0.53840000\n",
            "Iteration: 14400/15000 - Cost: 0.03245998 - Accuracy: 1.00000000 - val_acc: 0.53680000\n",
            "Iteration: 14500/15000 - Cost: 0.04542626 - Accuracy: 0.99000000 - val_acc: 0.52920000\n",
            "Iteration: 14600/15000 - Cost: 0.01156996 - Accuracy: 1.00000000 - val_acc: 0.53360000\n",
            "Iteration: 14700/15000 - Cost: 0.02909661 - Accuracy: 1.00000000 - val_acc: 0.53440000\n",
            "Iteration: 14800/15000 - Cost: 0.01150491 - Accuracy: 1.00000000 - val_acc: 0.53180000\n",
            "Iteration: 14900/15000 - Cost: 0.00347710 - Accuracy: 1.00000000 - val_acc: 0.53820000\n"
          ],
          "name": "stdout"
        }
      ]
    },
    {
      "metadata": {
        "id": "1aKQBer2Uveu",
        "colab_type": "code",
        "colab": {
          "base_uri": "https://localhost:8080/",
          "height": 1397
        },
        "outputId": "9ad70e85-7543-4a55-fb9d-e358cfd67bc6"
      },
      "cell_type": "code",
      "source": [
        "def imshow(img, title_info):\n",
        "    img = img / 2 + 0.5 # unnormalize\n",
        "    npimg = img.numpy()\n",
        "    plt.figure()\n",
        "    plt.imshow(np.transpose(npimg, (1, 2, 0)))\n",
        "    plt.title(title_info)\n",
        "\n",
        "result = (NN.predict(X_test))\n",
        "test_list = [5, 11, 16, 21]\n",
        "for i in test_list:\n",
        "    imshow(testset[i][0], 'Groud Truth: %s - Prediction: %s' %(classes[testset[i][1]], classes[result[i]])) "
      ],
      "execution_count": 7,
      "outputs": [
        {
          "output_type": "display_data",
          "data": {
            "image/png": "[encoded data removed]",
            "text/plain": [
              "<matplotlib.figure.Figure at 0x7ff30e8e7b00>"
            ]
          },
          "metadata": {
            "tags": []
          }
        },
        {
          "output_type": "display_data",
          "data": {
            "image/png": "[encoded data removed]",
            "text/plain": [
              "<matplotlib.figure.Figure at 0x7ff30e41cc88>"
            ]
          },
          "metadata": {
            "tags": []
          }
        },
        {
          "output_type": "display_data",
          "data": {
            "image/png": "[encoded data removed]",
            "text/plain": [
              "<matplotlib.figure.Figure at 0x7ff30e469a58>"
            ]
          },
          "metadata": {
            "tags": []
          }
        },
        {
          "output_type": "display_data",
          "data": {
            "image/png": "[encoded data removed]",
            "text/plain": [
              "<matplotlib.figure.Figure at 0x7ff30bba4c88>"
            ]
          },
          "metadata": {
            "tags": []
          }
        }
      ]
    },
    {
      "metadata": {
        "id": "SPc7ogqiHCoa",
        "colab_type": "code",
        "colab": {}
      },
      "cell_type": "code",
      "source": [
        ""
      ],
      "execution_count": 0,
      "outputs": []
    },
    {
      "metadata": {
        "id": "htcLt3M7jldD",
        "colab_type": "code",
        "colab": {}
      },
      "cell_type": "code",
      "source": [
        ""
      ],
      "execution_count": 0,
      "outputs": []
    },
    {
      "metadata": {
        "id": "c2S_wf_djoMA",
        "colab_type": "text"
      },
      "cell_type": "markdown",
      "source": [
        "# Part 2"
      ]
    }
  ]
}